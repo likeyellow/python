{
 "cells": [
  {
   "cell_type": "markdown",
   "metadata": {},
   "source": [
    "#### [예제 1]  화면에 John's House을 출력하라. (중간에 '가 있음에 주의)\n",
    "#### 작은 따옴표 안에서는 작은 따옴표를 표현 할 수 없음. \n",
    "#### 큰 따옴표로 문자열을 구성하면, 문자열 안에서 작은 따옴표를 표현할 수 있음. 즉  문자열을 표현하는데 작은 따옴표와 큰 따옴표 두 가지 방법이 있는 이유이기도 함"
   ]
  },
  {
   "cell_type": "code",
   "execution_count": 1,
   "metadata": {},
   "outputs": [
    {
     "name": "stdout",
     "output_type": "stream",
     "text": [
      "John's house\n"
     ]
    }
   ],
   "source": [
    "print(\"John's house\")"
   ]
  },
  {
   "cell_type": "markdown",
   "metadata": {},
   "source": [
    "#### \\ (역 슬래쉬) 는 파이썬에서 특수 문자로 취급. 역 슬래쉬와 따옴표가 함께 사용되면, 역슬래쉬 다음의 따옴표는 문자열의 시작과 끝을 가리는 것이아니라 문자열 그 자체로 인식됨"
   ]
  },
  {
   "cell_type": "code",
   "execution_count": 2,
   "metadata": {},
   "outputs": [
    {
     "name": "stdout",
     "output_type": "stream",
     "text": [
      "John's house\n"
     ]
    }
   ],
   "source": [
    "print('John\\'s house')"
   ]
  },
  {
   "cell_type": "markdown",
   "metadata": {},
   "source": [
    "#### [예제 2]  다음의 print 문을 통해 \\n, \\t 기능을 확인하시오 print(‘Hello.\\nBasic\\t\\tLecture’) "
   ]
  },
  {
   "cell_type": "code",
   "execution_count": 3,
   "metadata": {},
   "outputs": [
    {
     "name": "stdout",
     "output_type": "stream",
     "text": [
      "Hello.\n",
      "Basic\t\tLecture\n"
     ]
    }
   ],
   "source": [
    "print('Hello.\\nBasic\\t\\tLecture')"
   ]
  },
  {
   "cell_type": "markdown",
   "metadata": {},
   "source": [
    "#### [예제 3]  license_plate 문자열이 다음과 같을때, 뒤 4자리만 출력하시오   license_plate = \"24가 2210\""
   ]
  },
  {
   "cell_type": "code",
   "execution_count": 5,
   "metadata": {},
   "outputs": [
    {
     "name": "stdout",
     "output_type": "stream",
     "text": [
      "2210\n",
      "2210\n"
     ]
    }
   ],
   "source": [
    "license_plate = \"24가 2210\"\n",
    "\n",
    "print(license_plate[4:])\n",
    "\n",
    "print(license_plate[-4:])"
   ]
  },
  {
   "cell_type": "markdown",
   "metadata": {},
   "source": [
    "\n",
    "#### [예제 4]  다음의 Error 원인과 해결방안을 찾으시오\n",
    "#### 해결방안\n",
    "#### kernel reset 후에 len_A = len(list_A)\n",
    "#### print(len_A)\n",
    "#### len_B = len(list_B)\n",
    "#### print(len_B)"
   ]
  },
  {
   "cell_type": "code",
   "execution_count": 8,
   "metadata": {},
   "outputs": [
    {
     "name": "stdout",
     "output_type": "stream",
     "text": [
      "5\n"
     ]
    }
   ],
   "source": [
    "list_A = [ 1, 2, 3, 4, 5 ]\n",
    "\n",
    "len = len(list_A)\n",
    "\n",
    "print(len)"
   ]
  },
  {
   "cell_type": "code",
   "execution_count": 9,
   "metadata": {},
   "outputs": [
    {
     "ename": "TypeError",
     "evalue": "'int' object is not callable",
     "output_type": "error",
     "traceback": [
      "\u001b[1;31m---------------------------------------------------------------------------\u001b[0m",
      "\u001b[1;31mTypeError\u001b[0m                                 Traceback (most recent call last)",
      "\u001b[1;32m<ipython-input-9-74a27e0c5640>\u001b[0m in \u001b[0;36m<module>\u001b[1;34m\u001b[0m\n\u001b[0;32m      1\u001b[0m \u001b[0mlist_B\u001b[0m \u001b[1;33m=\u001b[0m \u001b[1;33m[\u001b[0m \u001b[1;36m1\u001b[0m\u001b[1;33m,\u001b[0m \u001b[1;36m2\u001b[0m\u001b[1;33m,\u001b[0m \u001b[1;36m3\u001b[0m \u001b[1;33m]\u001b[0m\u001b[1;33m\u001b[0m\u001b[1;33m\u001b[0m\u001b[0m\n\u001b[0;32m      2\u001b[0m \u001b[1;33m\u001b[0m\u001b[0m\n\u001b[1;32m----> 3\u001b[1;33m \u001b[0mlen\u001b[0m \u001b[1;33m=\u001b[0m \u001b[0mlen\u001b[0m\u001b[1;33m(\u001b[0m\u001b[0mlist_B\u001b[0m\u001b[1;33m)\u001b[0m\u001b[1;33m\u001b[0m\u001b[1;33m\u001b[0m\u001b[0m\n\u001b[0m\u001b[0;32m      4\u001b[0m \u001b[1;33m\u001b[0m\u001b[0m\n\u001b[0;32m      5\u001b[0m \u001b[0mprint\u001b[0m\u001b[1;33m(\u001b[0m\u001b[0mlen\u001b[0m\u001b[1;33m)\u001b[0m\u001b[1;33m\u001b[0m\u001b[1;33m\u001b[0m\u001b[0m\n",
      "\u001b[1;31mTypeError\u001b[0m: 'int' object is not callable"
     ]
    }
   ],
   "source": [
    "list_B = [ 1, 2, 3 ]\n",
    "\n",
    "len = len(list_B)\n",
    "\n",
    "print(len)"
   ]
  },
  {
   "cell_type": "markdown",
   "metadata": {},
   "source": [
    "#### [예제 5] 아래 코드의 실행 결과를 예상하시오"
   ]
  },
  {
   "cell_type": "code",
   "execution_count": 10,
   "metadata": {},
   "outputs": [
    {
     "ename": "TypeError",
     "evalue": "'str' object does not support item assignment",
     "output_type": "error",
     "traceback": [
      "\u001b[1;31m---------------------------------------------------------------------------\u001b[0m",
      "\u001b[1;31mTypeError\u001b[0m                                 Traceback (most recent call last)",
      "\u001b[1;32m<ipython-input-10-013d8c46870f>\u001b[0m in \u001b[0;36m<module>\u001b[1;34m\u001b[0m\n\u001b[0;32m      1\u001b[0m \u001b[0mstr\u001b[0m \u001b[1;33m=\u001b[0m \u001b[1;34m'Hello'\u001b[0m\u001b[1;33m\u001b[0m\u001b[1;33m\u001b[0m\u001b[0m\n\u001b[0;32m      2\u001b[0m \u001b[1;33m\u001b[0m\u001b[0m\n\u001b[1;32m----> 3\u001b[1;33m \u001b[0mstr\u001b[0m\u001b[1;33m[\u001b[0m\u001b[1;36m0\u001b[0m\u001b[1;33m]\u001b[0m \u001b[1;33m=\u001b[0m \u001b[1;34m'K'\u001b[0m\u001b[1;33m\u001b[0m\u001b[1;33m\u001b[0m\u001b[0m\n\u001b[0m",
      "\u001b[1;31mTypeError\u001b[0m: 'str' object does not support item assignment"
     ]
    }
   ],
   "source": [
    "str = 'Hello'\n",
    "\n",
    "str[0] = 'K'"
   ]
  },
  {
   "cell_type": "code",
   "execution_count": 12,
   "metadata": {},
   "outputs": [
    {
     "name": "stdout",
     "output_type": "stream",
     "text": [
      "Hello\n",
      "Kello\n"
     ]
    }
   ],
   "source": [
    "new_str = str.replace('H', 'K')\n",
    "\n",
    "print(str)\n",
    "print(new_str)"
   ]
  },
  {
   "cell_type": "code",
   "execution_count": 13,
   "metadata": {},
   "outputs": [
    {
     "name": "stdout",
     "output_type": "stream",
     "text": [
      "Kello\n"
     ]
    }
   ],
   "source": [
    "str = str.replace('H', 'K')\n",
    "\n",
    "print(str)"
   ]
  },
  {
   "cell_type": "markdown",
   "metadata": {},
   "source": [
    "#### [예제 6] 슬래시 ('/')로 구분되어 다음의 문자열에 대해서,   string = “Hello/Machine/Deep/Learning”\n",
    "#### (1) 슬라이싱만을 이용하여 다음 리스트를 만드시오   list_A = [ ‘Hello’, ‘Machine’, ‘Deep’, ‘Learning’ ]\n",
    "#### (2) 슬라이싱과 list append method를 이용하여 다음 리스트를 만드시오  list_B = [ ‘Hello’, ‘Machine’, ‘Deep’, ‘Learning’ ]\n",
    "#### (3) string의 split method를 이용하여 다음 리스트를 만드시오   list_C = [ ‘Hello’, ‘Machine’, ‘Deep’, ‘Learning’ ]"
   ]
  },
  {
   "cell_type": "code",
   "execution_count": 14,
   "metadata": {},
   "outputs": [],
   "source": [
    "string = \"Hello/Machine/Deep/Learning\""
   ]
  },
  {
   "cell_type": "code",
   "execution_count": 15,
   "metadata": {},
   "outputs": [
    {
     "name": "stdout",
     "output_type": "stream",
     "text": [
      "['Hello', 'Machine', 'Deep', 'Learning']\n"
     ]
    }
   ],
   "source": [
    "list_A = [ string[:5], string[6:13], string[14:18], string[19:] ]\n",
    "\n",
    "print(list_A)"
   ]
  },
  {
   "cell_type": "code",
   "execution_count": 16,
   "metadata": {},
   "outputs": [
    {
     "name": "stdout",
     "output_type": "stream",
     "text": [
      "['Hello', 'Machine', 'Deep', 'Learning']\n"
     ]
    }
   ],
   "source": [
    "list_B = []\n",
    "\n",
    "list_B.append(string[:5])\n",
    "list_B.append(string[6:13])\n",
    "list_B.append(string[14:18])\n",
    "list_B.append(string[19:])\n",
    "\n",
    "print(list_B)"
   ]
  },
  {
   "cell_type": "code",
   "execution_count": 17,
   "metadata": {},
   "outputs": [
    {
     "name": "stdout",
     "output_type": "stream",
     "text": [
      "['Hello', 'Machine', 'Deep', 'Learning']\n"
     ]
    }
   ],
   "source": [
    "list_C = string.split('/')\n",
    "\n",
    "print(list_C)"
   ]
  },
  {
   "cell_type": "markdown",
   "metadata": {},
   "source": [
    "#### [예제 7] 변수 A에 'hello world'라는 문자열이 저장되어 있을때 슬라이싱 기능과 문자열 + 연산자만을 이용하여 A 값을 'hi world'로 변경하기"
   ]
  },
  {
   "cell_type": "code",
   "execution_count": 18,
   "metadata": {},
   "outputs": [
    {
     "name": "stdout",
     "output_type": "stream",
     "text": [
      "hi World\n"
     ]
    }
   ],
   "source": [
    "A = 'Hello World'\n",
    "\n",
    "A = 'hi' + A[5:]\n",
    "\n",
    "print(A)"
   ]
  },
  {
   "cell_type": "markdown",
   "metadata": {},
   "source": [
    "#### [예제 8] 문자열 str = \"AB,CDE:FG,WX,Y\".split(',') 에서, 다음을 구하시오\n",
    "####  (1)  str\n",
    "####  (2)  str[-2]\n",
    "####  (3)  str[0][ :-1]\n",
    "####  (4)  str[2: ]\n",
    "####  (5)  str[ : ][ : ]"
   ]
  },
  {
   "cell_type": "code",
   "execution_count": 19,
   "metadata": {},
   "outputs": [],
   "source": [
    "str = \"AB,CDE:FG,WX,Y\".split(',')"
   ]
  },
  {
   "cell_type": "code",
   "execution_count": 23,
   "metadata": {},
   "outputs": [
    {
     "name": "stdout",
     "output_type": "stream",
     "text": [
      "['AB', 'CDE:FG', 'WX', 'Y'] <class 'list'>\n",
      "WX <class 'str'>\n",
      "A <class 'str'>\n",
      "['WX', 'Y'] <class 'list'>\n",
      "['AB', 'CDE:FG', 'WX', 'Y'] <class 'list'>\n"
     ]
    }
   ],
   "source": [
    "print(str, type(str))\n",
    "print(str[-2], type(str[-2]))\n",
    "print(str[0][:-1], type(str[0][:-1]))\n",
    "print(str[2:], type(str[2:]))\n",
    "print(str[:][:], type(str[:][:]))"
   ]
  },
  {
   "cell_type": "markdown",
   "metadata": {},
   "source": [
    "#### [예제 9]  다음과 같이 files 정의 되었을 때, new_var 값을 구하시오\n",
    "#### files =  'tmp/cat.9.jpg:python.1.py:temp/hello.6316.txt:test.6331.docx'\n",
    "#### new_var = [ files.split(':')[2].split('.')[1].strip() ]"
   ]
  },
  {
   "cell_type": "code",
   "execution_count": 47,
   "metadata": {},
   "outputs": [],
   "source": [
    "files =  'tmp/cat.9.jpg:python.1.py:temp/hello.6316.txt:test.6331.docx'"
   ]
  },
  {
   "cell_type": "code",
   "execution_count": 48,
   "metadata": {},
   "outputs": [
    {
     "name": "stdout",
     "output_type": "stream",
     "text": [
      "['6316']\n"
     ]
    }
   ],
   "source": [
    "new_var = [ files.split(':')[2].split('.')[1].strip() ]\n",
    "\n",
    "print(new_var)"
   ]
  },
  {
   "cell_type": "code",
   "execution_count": 49,
   "metadata": {},
   "outputs": [
    {
     "name": "stdout",
     "output_type": "stream",
     "text": [
      "['tmp/cat.9.jpg', 'python.1.py', 'temp/hello.6316.txt', 'test.6331.docx']\n"
     ]
    }
   ],
   "source": [
    "temp_str1 = files.split(':')\n",
    "\n",
    "print(temp_str1)"
   ]
  },
  {
   "cell_type": "code",
   "execution_count": 50,
   "metadata": {},
   "outputs": [
    {
     "data": {
      "text/plain": [
       "'6316'"
      ]
     },
     "execution_count": 50,
     "metadata": {},
     "output_type": "execute_result"
    }
   ],
   "source": [
    "temp_str1[2].split('.')[1]"
   ]
  },
  {
   "cell_type": "markdown",
   "metadata": {},
   "source": [
    "#### [예제 10] 다음과 같은 test_dir1 디렉토리에 동물이름을 나타내는 파일이 있을 때,\n",
    "#### (1) cat, dog, rabbit, deer 등과 같은 임의의 동물이름을 출력하는 1 line python code 를 작성하시오\n",
    "#### (2) 파일의 확장자를 추출하는 1 line python code 를 작성하시오"
   ]
  },
  {
   "cell_type": "code",
   "execution_count": 1,
   "metadata": {},
   "outputs": [
    {
     "name": "stdout",
     "output_type": "stream",
     "text": [
      "['test_dir1\\\\1. cat.6.jpg', 'test_dir1\\\\10. rabbit.131.jpg', 'test_dir1\\\\2. cat.9.jpg', 'test_dir1\\\\3.cat.90.png', 'test_dir1\\\\4. deer.98.jpg', 'test_dir1\\\\5. dog.1.png', 'test_dir1\\\\6.  dog  .6316.jpg', 'test_dir1\\\\7.dog.6331.jpg', 'test_dir1\\\\8.rabbit.1.8.jpg', 'test_dir1\\\\9.  rabbit.  1.8.png']\n",
      "<class 'list'>\n"
     ]
    }
   ],
   "source": [
    "import glob\n",
    "\n",
    "all_files = glob.glob('test_dir1/*')\n",
    "\n",
    "print(all_files)\n",
    "print(type(all_files))"
   ]
  },
  {
   "cell_type": "code",
   "execution_count": 2,
   "metadata": {},
   "outputs": [
    {
     "name": "stdout",
     "output_type": "stream",
     "text": [
      "cat jpg\n",
      "<class 'str'> <class 'str'>\n"
     ]
    }
   ],
   "source": [
    "animal_name = all_files[0].split('\\\\')[-1].split('.')[1].strip()\n",
    "\n",
    "file_extension = all_files[0].split('\\\\')[-1].split('.')[-1].strip()\n",
    "\n",
    "print(animal_name, file_extension)\n",
    "\n",
    "print(type(animal_name), type(file_extension))"
   ]
  }
 ],
 "metadata": {
  "kernelspec": {
   "display_name": "Python 3",
   "language": "python",
   "name": "python3"
  },
  "language_info": {
   "codemirror_mode": {
    "name": "ipython",
    "version": 3
   },
   "file_extension": ".py",
   "mimetype": "text/x-python",
   "name": "python",
   "nbconvert_exporter": "python",
   "pygments_lexer": "ipython3",
   "version": "3.7.6"
  }
 },
 "nbformat": 4,
 "nbformat_minor": 2
}
