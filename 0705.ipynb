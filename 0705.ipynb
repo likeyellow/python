{
 "cells": [
  {
   "cell_type": "markdown",
   "metadata": {},
   "source": [
    "# 0705(일) 수업"
   ]
  },
  {
   "cell_type": "markdown",
   "metadata": {},
   "source": [
    "조건문 - if "
   ]
  },
  {
   "cell_type": "code",
   "execution_count": 1,
   "metadata": {},
   "outputs": [],
   "source": [
    "a = 1"
   ]
  },
  {
   "cell_type": "code",
   "execution_count": 2,
   "metadata": {},
   "outputs": [
    {
     "name": "stdout",
     "output_type": "stream",
     "text": [
      "a == 1\n",
      "positive number\n"
     ]
    }
   ],
   "source": [
    "if a > 0 :\n",
    "    print(\"a ==\", a)\n",
    "    print(\"positive number\")\n",
    "elif a == 0 :\n",
    "    print(\"a ==\", a)\n",
    "    print(\"zero\")\n",
    "else :\n",
    "    print(\"a ==\", a)\n",
    "    print(\"negative number\")"
   ]
  },
  {
   "cell_type": "code",
   "execution_count": 3,
   "metadata": {},
   "outputs": [],
   "source": [
    "list_data = [10, 20, 30, 40, 50]\n",
    "dict_data = {\"key1\":1, \"key2\":2}"
   ]
  },
  {
   "cell_type": "code",
   "execution_count": 4,
   "metadata": {},
   "outputs": [
    {
     "name": "stdout",
     "output_type": "stream",
     "text": [
      "45 is not in list_data\n",
      "key1 is in dict_data\n"
     ]
    }
   ],
   "source": [
    "if 45 in list_data:\n",
    "    print(\"45 is in list_data\")\n",
    "else:\n",
    "    print(\"45 is not in list_data\")\n",
    "    \n",
    "if \"key1\" in dict_data:\n",
    "    print(\"key1 is in dict_data\")\n",
    "else:\n",
    "    print(\"key1 is not in dict_data\")"
   ]
  },
  {
   "cell_type": "markdown",
   "metadata": {},
   "source": [
    "반복문 - for"
   ]
  },
  {
   "cell_type": "code",
   "execution_count": 5,
   "metadata": {},
   "outputs": [
    {
     "name": "stdout",
     "output_type": "stream",
     "text": [
      "0  1  2  3  4  5  6  7  8  9  "
     ]
    }
   ],
   "source": [
    "for data in range(10): # range()함수는 시작값 - 미지막값-1\n",
    "    print(data, \" \", end='')"
   ]
  },
  {
   "cell_type": "code",
   "execution_count": 7,
   "metadata": {},
   "outputs": [
    {
     "name": "stdout",
     "output_type": "stream",
     "text": [
      "0 1 2 3 4 5 6 7 8 9 "
     ]
    }
   ],
   "source": [
    "for data in range(0, 10):\n",
    "    print(data, \"\", end='')"
   ]
  },
  {
   "cell_type": "code",
   "execution_count": 8,
   "metadata": {},
   "outputs": [],
   "source": [
    "list_data = [10, 20, 30, 40, 50]"
   ]
  },
  {
   "cell_type": "code",
   "execution_count": 9,
   "metadata": {},
   "outputs": [
    {
     "name": "stdout",
     "output_type": "stream",
     "text": [
      "10  20  30  40  50  "
     ]
    }
   ],
   "source": [
    "for data in list_data:\n",
    "    print(data, \" \", end='')"
   ]
  },
  {
   "cell_type": "code",
   "execution_count": 10,
   "metadata": {},
   "outputs": [
    {
     "name": "stdout",
     "output_type": "stream",
     "text": [
      "key1  key2  "
     ]
    }
   ],
   "source": [
    "dict_data = {'key1':1, 'key2':2}\n",
    "\n",
    "for data in dict_data:\n",
    "    print(data, \" \", end='')"
   ]
  },
  {
   "cell_type": "code",
   "execution_count": 11,
   "metadata": {},
   "outputs": [
    {
     "name": "stdout",
     "output_type": "stream",
     "text": [
      "key1   1\n",
      "key2   2\n"
     ]
    }
   ],
   "source": [
    "for key, value in dict_data.items():\n",
    "    print(key, \" \", value)"
   ]
  },
  {
   "cell_type": "code",
   "execution_count": 30,
   "metadata": {},
   "outputs": [
    {
     "name": "stdout",
     "output_type": "stream",
     "text": [
      "30\n"
     ]
    }
   ],
   "source": [
    "def sum(x, y):\n",
    "    s = x + y\n",
    "    return s\n",
    "\n",
    "result = sum(10, 20)\n",
    "print(result)"
   ]
  },
  {
   "cell_type": "code",
   "execution_count": 31,
   "metadata": {},
   "outputs": [
    {
     "name": "stdout",
     "output_type": "stream",
     "text": [
      "101 102 103\n"
     ]
    }
   ],
   "source": [
    "def multi_ret_func(x):\n",
    "    return x+1, x+2, x+3\n",
    "\n",
    "x = 100\n",
    "y1, y2, y3 = multi_ret_func(x)\n",
    "print(y1, y2, y3)"
   ]
  },
  {
   "cell_type": "code",
   "execution_count": 32,
   "metadata": {},
   "outputs": [
    {
     "name": "stdout",
     "output_type": "stream",
     "text": [
      "name == DAVE\n",
      "name == DAVE\n",
      "name == DAVE\n",
      "name == DAVE\n",
      "name == DAVE\n"
     ]
    }
   ],
   "source": [
    "def print_name(name, count=2): # default parameter\n",
    "    for i in range(count):\n",
    "        print(\"name ==\", name)\n",
    "        \n",
    "print_name(\"DAVE\", 5)"
   ]
  },
  {
   "cell_type": "code",
   "execution_count": 33,
   "metadata": {},
   "outputs": [
    {
     "name": "stdout",
     "output_type": "stream",
     "text": [
      "name == JANE\n",
      "name == JANE\n"
     ]
    }
   ],
   "source": [
    "print_name(\"JANE\")"
   ]
  },
  {
   "cell_type": "markdown",
   "metadata": {},
   "source": [
    "[예제 1]"
   ]
  },
  {
   "cell_type": "code",
   "execution_count": 21,
   "metadata": {
    "scrolled": true
   },
   "outputs": [
    {
     "name": "stdout",
     "output_type": "stream",
     "text": [
      "* * * * * * "
     ]
    }
   ],
   "source": [
    "for x in range(6):\n",
    "    print('*',\"\",end='')"
   ]
  },
  {
   "cell_type": "markdown",
   "metadata": {},
   "source": [
    "[예제 2]"
   ]
  },
  {
   "cell_type": "code",
   "execution_count": 24,
   "metadata": {},
   "outputs": [
    {
     "name": "stdout",
     "output_type": "stream",
     "text": [
      "***** \n",
      "**** \n",
      "*** \n",
      "** \n",
      "* \n"
     ]
    }
   ],
   "source": [
    "for i in range(5):\n",
    "    for j in range(5-i):\n",
    "        print('*',end='')\n",
    "    print(\" \")"
   ]
  },
  {
   "cell_type": "markdown",
   "metadata": {},
   "source": [
    "[예제 3]"
   ]
  },
  {
   "cell_type": "code",
   "execution_count": 25,
   "metadata": {},
   "outputs": [],
   "source": [
    "apart = [[101, 102, 103, 104],[201, 202, 203, 204],[301, 302, 303, 304], [401, 402, 403, 404]]\n",
    "arrears = [101, 203, 301, 404]"
   ]
  },
  {
   "cell_type": "code",
   "execution_count": 29,
   "metadata": {},
   "outputs": [
    {
     "name": "stdout",
     "output_type": "stream",
     "text": [
      "delevery list : 102\n",
      "delevery list : 103\n",
      "delevery list : 104\n",
      "delevery list : 201\n",
      "delevery list : 202\n",
      "delevery list : 204\n",
      "delevery list : 302\n",
      "delevery list : 303\n",
      "delevery list : 304\n",
      "delevery list : 401\n",
      "delevery list : 402\n",
      "delevery list : 403\n"
     ]
    }
   ],
   "source": [
    "for i in apart:\n",
    "    for j in i:\n",
    "        if j in arrears:\n",
    "            continue\n",
    "        else:\n",
    "            print(\"delevery list :\", j)"
   ]
  },
  {
   "cell_type": "markdown",
   "metadata": {},
   "source": [
    "[예제 4]"
   ]
  },
  {
   "cell_type": "code",
   "execution_count": 36,
   "metadata": {},
   "outputs": [
    {
     "name": "stdout",
     "output_type": "stream",
     "text": [
      "3\n"
     ]
    }
   ],
   "source": [
    "test = [[\"na\",11],[\"hh\", 37], [\"ggg\",88]]\n",
    "print(len(test))"
   ]
  },
  {
   "cell_type": "code",
   "execution_count": 37,
   "metadata": {},
   "outputs": [
    {
     "name": "stdout",
     "output_type": "stream",
     "text": [
      "[2, 4, 6, 8]\n"
     ]
    }
   ],
   "source": [
    "def multi_two(x):\n",
    "    return x*2\n",
    "result = map(multi_two, [1,2,3,4])\n",
    "print(list(result))"
   ]
  },
  {
   "cell_type": "code",
   "execution_count": 38,
   "metadata": {},
   "outputs": [
    {
     "name": "stdout",
     "output_type": "stream",
     "text": [
      "1 3 5\n"
     ]
    }
   ],
   "source": [
    "a=[]\n",
    "for i in range(1,7,2):\n",
    "    a.append(i)\n",
    "print(a[0],a[1],a[2])"
   ]
  },
  {
   "cell_type": "code",
   "execution_count": 42,
   "metadata": {},
   "outputs": [
    {
     "data": {
      "text/plain": [
       "dict_items([('ll', 11), ('yy', -13)])"
      ]
     },
     "execution_count": 42,
     "metadata": {},
     "output_type": "execute_result"
    }
   ],
   "source": [
    "num = {'ll':22-11, 'yy':32-45}\n",
    "num.items()"
   ]
  },
  {
   "cell_type": "code",
   "execution_count": 43,
   "metadata": {},
   "outputs": [
    {
     "name": "stdout",
     "output_type": "stream",
     "text": [
      "[2, 0, 27]\n"
     ]
    }
   ],
   "source": [
    "list = [1,6,3]\n",
    "def func(x):\n",
    "    x[0]=2\n",
    "    x[1]=x[1]%2\n",
    "    x[2]=x[2]**3\n",
    "func(list)\n",
    "print(list)"
   ]
  },
  {
   "cell_type": "code",
   "execution_count": 44,
   "metadata": {},
   "outputs": [
    {
     "name": "stdout",
     "output_type": "stream",
     "text": [
      "[[7, 8, 9]]\n"
     ]
    }
   ],
   "source": [
    "test = [[4,5,6],[7,8,9],[10,11,12]]\n",
    "test = test[:-1][1:2]\n",
    "print(test)"
   ]
  },
  {
   "cell_type": "code",
   "execution_count": 45,
   "metadata": {},
   "outputs": [
    {
     "name": "stdout",
     "output_type": "stream",
     "text": [
      "[7, 14, 21, 28, 35, 42, 49, 56, 63]\n"
     ]
    }
   ],
   "source": [
    "ss = [number*7 for number in range(1,10)]\n",
    "print(ss)"
   ]
  },
  {
   "cell_type": "code",
   "execution_count": 49,
   "metadata": {},
   "outputs": [
    {
     "name": "stdout",
     "output_type": "stream",
     "text": [
      "7 X 1  =  7\n",
      "7 X 2  =  14\n",
      "7 X 3  =  21\n",
      "7 X 4  =  28\n",
      "7 X 5  =  35\n",
      "7 X 6  =  42\n",
      "7 X 7  =  49\n",
      "7 X 8  =  56\n",
      "7 X 9  =  63\n"
     ]
    }
   ],
   "source": [
    "for index,num in enumerate(ss):\n",
    "    print('7 X',index+1,' = ', num)"
   ]
  },
  {
   "cell_type": "code",
   "execution_count": null,
   "metadata": {},
   "outputs": [],
   "source": []
  }
 ],
 "metadata": {
  "kernelspec": {
   "display_name": "Python 3",
   "language": "python",
   "name": "python3"
  },
  "language_info": {
   "codemirror_mode": {
    "name": "ipython",
    "version": 3
   },
   "file_extension": ".py",
   "mimetype": "text/x-python",
   "name": "python",
   "nbconvert_exporter": "python",
   "pygments_lexer": "ipython3",
   "version": "3.7.6"
  }
 },
 "nbformat": 4,
 "nbformat_minor": 4
}
