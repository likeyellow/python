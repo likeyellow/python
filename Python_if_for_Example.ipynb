{
 "cells": [
  {
   "cell_type": "markdown",
   "metadata": {},
   "source": [
    "#### [예제 1] 아래와 같은 패턴의 별(*)을 출력하는 프로그램을 end='' 을 이용하여 작성하시오 "
   ]
  },
  {
   "cell_type": "code",
   "execution_count": 1,
   "metadata": {},
   "outputs": [
    {
     "name": "stdout",
     "output_type": "stream",
     "text": [
      "*****"
     ]
    }
   ],
   "source": [
    "for i in range(5):\n",
    "    \n",
    "    print('*', end='')"
   ]
  },
  {
   "cell_type": "markdown",
   "metadata": {},
   "source": [
    "#### [예제 2] 아래와 같은 패턴의 별(*)을 출력하는 프로그램을 end='' 을 이용하여 작성하시오"
   ]
  },
  {
   "cell_type": "code",
   "execution_count": 2,
   "metadata": {},
   "outputs": [
    {
     "name": "stdout",
     "output_type": "stream",
     "text": [
      "*****\n",
      "****\n",
      "***\n",
      "**\n",
      "*\n"
     ]
    }
   ],
   "source": [
    "for i in range(5):\n",
    "    for k in range(5-i):\n",
    "        print('*', end='')\n",
    "    print(\"\")"
   ]
  },
  {
   "cell_type": "markdown",
   "metadata": {},
   "source": [
    "#### [예제 3] 중첩 루프를 이용해 신문 배달을 하는 프로그램을 작성하시오. \n",
    "#### 단, 아래에서 arrears 리스트는 신문 구독료가 미납된 세대에 대한 정보를 포함하고 있는데, 해당 세대에는 신문을 배달하지 않아야 함"
   ]
  },
  {
   "cell_type": "code",
   "execution_count": 3,
   "metadata": {},
   "outputs": [
    {
     "name": "stdout",
     "output_type": "stream",
     "text": [
      "Newspaper delivery:  102\n",
      "Newspaper delivery:  103\n",
      "Newspaper delivery:  104\n",
      "Newspaper delivery:  201\n",
      "Newspaper delivery:  202\n",
      "Newspaper delivery:  204\n",
      "Newspaper delivery:  302\n",
      "Newspaper delivery:  303\n",
      "Newspaper delivery:  304\n",
      "Newspaper delivery:  401\n",
      "Newspaper delivery:  402\n",
      "Newspaper delivery:  403\n"
     ]
    }
   ],
   "source": [
    "apart = [[101, 102, 103, 104],[201, 202, 203, 204],[301, 302, 303, 304], [401, 402, 403, 404]]\n",
    "arrears = [101, 203, 301, 404] \n",
    "\n",
    "for floor in apart:\n",
    "    \n",
    "    for house in floor:\n",
    "        \n",
    "        if house in arrears:\n",
    "            continue\n",
    "        else:\n",
    "            print(\"Newspaper delivery: \", house)"
   ]
  },
  {
   "cell_type": "markdown",
   "metadata": {},
   "source": [
    "#### [예제 4] 짝수 출력하는 다음 코드를 List Comprehension 으로 구현하시오"
   ]
  },
  {
   "cell_type": "code",
   "execution_count": 4,
   "metadata": {},
   "outputs": [
    {
     "name": "stdout",
     "output_type": "stream",
     "text": [
      "[0, 2, 4, 6, 8]\n"
     ]
    }
   ],
   "source": [
    "even_number = [  x  for x in range(10)  if x % 2 == 0 ]\n",
    "\n",
    "print(even_number)"
   ]
  },
  {
   "cell_type": "markdown",
   "metadata": {},
   "source": [
    "#### [예제 5]  my_list = [‘A’, ‘B’, ‘C’, ‘D’]  에서,  for 문과 슬라이싱을 이용하여 첫 번째 데이터를 제외하고 나머지 데이터를 출력하시오"
   ]
  },
  {
   "cell_type": "code",
   "execution_count": 5,
   "metadata": {},
   "outputs": [
    {
     "name": "stdout",
     "output_type": "stream",
     "text": [
      "B\n",
      "C\n",
      "D\n"
     ]
    }
   ],
   "source": [
    "my_list = [ 'A', 'B', 'C', 'D' ]\n",
    "\n",
    "for data in my_list[1:]:\n",
    "    \n",
    "    print(data)"
   ]
  },
  {
   "cell_type": "markdown",
   "metadata": {},
   "source": [
    "#### [예제 6] my_list = [3, 1, 7, 12, 5, 16]  에서, 3의 배수이거나 4의 배수를 화면에 출력하시오"
   ]
  },
  {
   "cell_type": "code",
   "execution_count": 6,
   "metadata": {},
   "outputs": [
    {
     "name": "stdout",
     "output_type": "stream",
     "text": [
      "3\n",
      "12\n",
      "16\n"
     ]
    }
   ],
   "source": [
    "my_list = [3, 1, 7, 12, 5, 16]  \n",
    "\n",
    "for data in my_list:\n",
    "    \n",
    "    if data % 3 == 0  or  data % 4 == 0:\n",
    "        \n",
    "        print(data)"
   ]
  },
  {
   "cell_type": "markdown",
   "metadata": {},
   "source": [
    "#### test_data= [ [10, 20, 30], [1, 2, 3], [100, 200, 300] ]   에 대하여, 다음의 xdata , tdata 를 구하시오"
   ]
  },
  {
   "cell_type": "code",
   "execution_count": 1,
   "metadata": {},
   "outputs": [],
   "source": [
    "test_data= [ [10, 20, 30], [1, 2, 3], [100, 200, 300] ]"
   ]
  },
  {
   "cell_type": "code",
   "execution_count": 2,
   "metadata": {},
   "outputs": [],
   "source": [
    "xdata= [ x[1:-1] for x in test_data ]\n",
    "tdata= [ [ x[0], x[-2] ]  for x in test_data ]"
   ]
  },
  {
   "cell_type": "code",
   "execution_count": 3,
   "metadata": {},
   "outputs": [
    {
     "data": {
      "text/plain": [
       "[[20], [2], [200]]"
      ]
     },
     "execution_count": 3,
     "metadata": {},
     "output_type": "execute_result"
    }
   ],
   "source": [
    "xdata"
   ]
  },
  {
   "cell_type": "code",
   "execution_count": 4,
   "metadata": {},
   "outputs": [
    {
     "data": {
      "text/plain": [
       "[[10, 20], [1, 2], [100, 200]]"
      ]
     },
     "execution_count": 4,
     "metadata": {},
     "output_type": "execute_result"
    }
   ],
   "source": [
    "tdata"
   ]
  },
  {
   "cell_type": "markdown",
   "metadata": {},
   "source": [
    "#### [예제 8] test_dir1 디렉토리에 다음과 같은 파일이 있을 때, list comprehension 을 이용하여 cat, dog 등의 동물이름을 추출하시오 \n",
    "\n",
    "#### (디렉토리 분리자는 윈도우에서는  ‘\\\\’, 리눅스에서는 ‘/’ ) "
   ]
  },
  {
   "cell_type": "code",
   "execution_count": 11,
   "metadata": {},
   "outputs": [
    {
     "data": {
      "text/plain": [
       "['test_dir1\\\\cat.6.jpg',\n",
       " 'test_dir1\\\\cat.9.jpg',\n",
       " 'test_dir1\\\\dog.6316.jpg',\n",
       " 'test_dir1\\\\dog.6331.jpg']"
      ]
     },
     "execution_count": 11,
     "metadata": {},
     "output_type": "execute_result"
    }
   ],
   "source": [
    "import glob\n",
    "\n",
    "files = glob.glob('test_dir1/*')\n",
    "\n",
    "files"
   ]
  },
  {
   "cell_type": "code",
   "execution_count": 13,
   "metadata": {},
   "outputs": [
    {
     "data": {
      "text/plain": [
       "['cat', 'cat', 'dog', 'dog']"
      ]
     },
     "execution_count": 13,
     "metadata": {},
     "output_type": "execute_result"
    }
   ],
   "source": [
    "animal_name = [ data.split('\\\\')[1].split('.')[0].strip()  for data in files ]\n",
    "\n",
    "animal_name"
   ]
  },
  {
   "cell_type": "markdown",
   "metadata": {},
   "source": [
    "#### [예제 9] test_dir2 디렉토리에 다음과 같은 파일이 있을 때, list comprehension 을 이용하여 cat, dog, rabbit, deer 등의 동물이름을 추출하시오 \n",
    "\n",
    "#### (디렉토리 분리자는 윈도우에서는  ‘\\\\’, 리눅스에서는 ‘/’ ) \n"
   ]
  },
  {
   "cell_type": "code",
   "execution_count": 14,
   "metadata": {},
   "outputs": [
    {
     "name": "stdout",
     "output_type": "stream",
     "text": [
      "['test_dir2\\\\1. cat.6.jpg', 'test_dir2\\\\10. rabbit.131.jpg', 'test_dir2\\\\2. cat.9.jpg', 'test_dir2\\\\3.cat.90.png', 'test_dir2\\\\4. deer.98.jpg', 'test_dir2\\\\5. dog.1.png', 'test_dir2\\\\6.  dog  .6316.jpg', 'test_dir2\\\\7.dog.6331.jpg', 'test_dir2\\\\8.rabbit.1.8.jpg', 'test_dir2\\\\9.  rabbit.  1.8.png']\n",
      "<class 'list'>\n",
      "['cat', 'rabbit', 'cat', 'cat', 'deer', 'dog', 'dog', 'dog', 'rabbit', 'rabbit']\n",
      "['jpg', 'jpg', 'jpg', 'png', 'jpg', 'png', 'jpg', 'jpg', 'jpg', 'png']\n"
     ]
    }
   ],
   "source": [
    "import glob\n",
    "\n",
    "all_files = glob.glob('test_dir2/*')\n",
    "\n",
    "print(all_files)\n",
    "print(type(all_files))\n",
    "\n",
    "animal_name =  [ data.split('\\\\')[-1].split('.')[1].strip() for data in all_files ]\n",
    "\n",
    "file_extension = [ data.split('\\\\')[-1].split('.')[-1].strip() for data in all_files ]\n",
    "\n",
    "print(animal_name)\n",
    "\n",
    "print(file_extension)"
   ]
  },
  {
   "cell_type": "code",
   "execution_count": 15,
   "metadata": {},
   "outputs": [
    {
     "name": "stdout",
     "output_type": "stream",
     "text": [
      "['test_dir2\\\\1. cat.6.jpg', 'test_dir2\\\\10. rabbit.131.jpg', 'test_dir2\\\\2. cat.9.jpg', 'test_dir2\\\\3.cat.90.png', 'test_dir2\\\\4. deer.98.jpg', 'test_dir2\\\\5. dog.1.png', 'test_dir2\\\\6.  dog  .6316.jpg', 'test_dir2\\\\7.dog.6331.jpg', 'test_dir2\\\\8.rabbit.1.8.jpg', 'test_dir2\\\\9.  rabbit.  1.8.png']\n"
     ]
    }
   ],
   "source": [
    "all_files = glob.glob('test_dir2/*')\n",
    "\n",
    "print(all_files)"
   ]
  },
  {
   "cell_type": "markdown",
   "metadata": {},
   "source": [
    "#### [예제 10] test_dir3 디렉토리에 다음과 같은 파일이 있을 때, list comprehension 과  enumerate 함수를 이용하여 ‘dog’이 포함된 파일 이름만 추출하시오\n",
    "#### 즉 ‘dog.1.png’ ,  ‘dog.6316.jpg’,  ‘dog.6331.jpg’  항목이 추출되어야 함"
   ]
  },
  {
   "cell_type": "code",
   "execution_count": 33,
   "metadata": {},
   "outputs": [
    {
     "data": {
      "text/plain": [
       "['test_dir3\\\\dog.1.png', 'test_dir3\\\\dog.6316.jpg', 'test_dir3\\\\dog.6331.jpg']"
      ]
     },
     "execution_count": 33,
     "metadata": {},
     "output_type": "execute_result"
    }
   ],
   "source": [
    "all_files = glob.glob('test_dir3/*')\n",
    "\n",
    "dog_list = [ file_name for file_name in all_files if 'dog' in file_name ]\n",
    "\n",
    "dog_list"
   ]
  },
  {
   "cell_type": "code",
   "execution_count": 35,
   "metadata": {},
   "outputs": [
    {
     "data": {
      "text/plain": [
       "['dog.1.png', 'dog.6316.jpg', 'dog.6331.jpg']"
      ]
     },
     "execution_count": 35,
     "metadata": {},
     "output_type": "execute_result"
    }
   ],
   "source": [
    "dog_file = []\n",
    "\n",
    "for index, name in enumerate(dog_list):\n",
    "    \n",
    "    file_name = dog_list[index].split('\\\\')[-1]\n",
    "    \n",
    "    dog_file.append(file_name.strip())\n",
    "    \n",
    "dog_file"
   ]
  },
  {
   "cell_type": "markdown",
   "metadata": {},
   "source": [
    "#### [예제 11] 다음과 같이 test_dir1, test_dir3 디렉토리에 있는파일을 바탕으로 \n",
    "#### 변수 a = [ 'cat.90.png', 'dog.1.png', 'deer.98.jpg' ]  되도록 파이썬 코드를 구현하시오 (순서는 고려하지 않음)"
   ]
  },
  {
   "cell_type": "code",
   "execution_count": 1,
   "metadata": {},
   "outputs": [
    {
     "name": "stdout",
     "output_type": "stream",
     "text": [
      "['test_dir1\\\\cat.6.jpg', 'test_dir1\\\\cat.9.jpg', 'test_dir1\\\\dog.6316.jpg', 'test_dir1\\\\dog.6331.jpg']\n",
      "['test_dir3\\\\cat.6.jpg', 'test_dir3\\\\cat.9.jpg', 'test_dir3\\\\cat.90.png', 'test_dir3\\\\deer.98.jpg', 'test_dir3\\\\dog.1.png', 'test_dir3\\\\dog.6316.jpg', 'test_dir3\\\\dog.6331.jpg', 'test_dir3\\\\rabbit.1.jpg', 'test_dir3\\\\rabbit.131.jpg', 'test_dir3\\\\rabbit.8.png']\n"
     ]
    }
   ],
   "source": [
    "import glob\n",
    "\n",
    "test_dir1_files = glob.glob('test_dir1/*')\n",
    "test_dir3_files = glob.glob('test_dir3/*')\n",
    "\n",
    "print(test_dir1_files)\n",
    "print(test_dir3_files)"
   ]
  },
  {
   "cell_type": "code",
   "execution_count": 2,
   "metadata": {},
   "outputs": [
    {
     "name": "stdout",
     "output_type": "stream",
     "text": [
      "['cat.6.jpg', 'cat.9.jpg', 'dog.6316.jpg', 'dog.6331.jpg']\n",
      "['cat.6.jpg', 'cat.9.jpg', 'cat.90.png', 'deer.98.jpg', 'dog.1.png', 'dog.6316.jpg', 'dog.6331.jpg', 'rabbit.1.jpg', 'rabbit.131.jpg', 'rabbit.8.png']\n"
     ]
    }
   ],
   "source": [
    "test_dir1_animal_list = [ animal_data.split('\\\\')[-1]  for animal_data in test_dir1_files ]\n",
    "\n",
    "test_dir3_animal_list = [ animal_data.split('\\\\')[-1]  for animal_data in test_dir3_files ]\n",
    "\n",
    "print(test_dir1_animal_list)\n",
    "print(test_dir3_animal_list)"
   ]
  },
  {
   "cell_type": "code",
   "execution_count": 3,
   "metadata": {},
   "outputs": [
    {
     "name": "stdout",
     "output_type": "stream",
     "text": [
      "{'rabbit.8.png', 'deer.98.jpg', 'cat.90.png', 'dog.1.png', 'rabbit.131.jpg', 'rabbit.1.jpg'}\n"
     ]
    }
   ],
   "source": [
    "# 집합(set) 이용하여 데이터 전처리\n",
    "\n",
    "animal_set = set(test_dir3_animal_list) - set(test_dir1_animal_list)\n",
    "\n",
    "print(animal_set)"
   ]
  },
  {
   "cell_type": "code",
   "execution_count": 4,
   "metadata": {},
   "outputs": [
    {
     "name": "stdout",
     "output_type": "stream",
     "text": [
      "['dog.1.png']\n",
      "['cat.90.png']\n",
      "['deer.98.jpg']\n",
      "['rabbit.8.png', 'rabbit.131.jpg', 'rabbit.1.jpg']\n"
     ]
    }
   ],
   "source": [
    "dog_list = [ data  for data in list(animal_set) if 'dog' in data ]\n",
    "cat_list = [ data  for data in list(animal_set) if 'cat' in data ]\n",
    "deer_list = [ data  for data in list(animal_set) if 'deer' in data ]\n",
    "rabbit_list = [ data  for data in list(animal_set) if 'rabbit' in data ]\n",
    "\n",
    "print(dog_list)\n",
    "print(cat_list)\n",
    "print(deer_list)\n",
    "print(rabbit_list)"
   ]
  },
  {
   "cell_type": "code",
   "execution_count": 6,
   "metadata": {},
   "outputs": [
    {
     "name": "stdout",
     "output_type": "stream",
     "text": [
      "['deer.98.jpg', 'dog.1.png', 'cat.90.png']\n"
     ]
    }
   ],
   "source": [
    "# 다음과 같이 리스트 + 연산을 이용해서 변수 a 를 만들어도 되지만,\n",
    "# 중복 데이터가 있을 가능성이 있다. 그래서 집합의 합집합 이용하는 것이 좋음\n",
    "# a = cat_list + dog_list + deer_list\n",
    "\n",
    "a_set = set(dog_list) | set(cat_list) | set(deer_list)\n",
    "\n",
    "a = list(a_set)\n",
    "\n",
    "print(a)"
   ]
  },
  {
   "cell_type": "markdown",
   "metadata": {},
   "source": [
    "#### [예제 12] 변수 a 값을 예측 하시오"
   ]
  },
  {
   "cell_type": "code",
   "execution_count": 7,
   "metadata": {},
   "outputs": [
    {
     "data": {
      "text/plain": [
       "[[[], [], []], [[], [], []], [[], [], []]]"
      ]
     },
     "execution_count": 7,
     "metadata": {},
     "output_type": "execute_result"
    }
   ],
   "source": [
    "a = [[[]  for  j  in range(3)]  for  i  in range(3)]  \n",
    "\n",
    "a"
   ]
  },
  {
   "cell_type": "code",
   "execution_count": 8,
   "metadata": {},
   "outputs": [
    {
     "data": {
      "text/plain": [
       "[[], [], []]"
      ]
     },
     "execution_count": 8,
     "metadata": {},
     "output_type": "execute_result"
    }
   ],
   "source": [
    "first = [[]  for  j  in range(3)]\n",
    "\n",
    "first"
   ]
  },
  {
   "cell_type": "code",
   "execution_count": 3,
   "metadata": {},
   "outputs": [
    {
     "data": {
      "text/plain": [
       "[[[], [], []], [[], [], []], [[], [], []]]"
      ]
     },
     "execution_count": 3,
     "metadata": {},
     "output_type": "execute_result"
    }
   ],
   "source": [
    "second = [ [[], [], []] for  i  in range(3) ]\n",
    "\n",
    "second"
   ]
  },
  {
   "cell_type": "markdown",
   "metadata": {},
   "source": [
    "#### [예제 13] 다음과 같은 리스트 변수에 대해서 아래의 결과가 출력되도록 코드를 구현하시오\n",
    "\n",
    "#### layer_names = [ ‘input’, ‘conv1’, ‘pooling1’, ‘conv2’, ‘flatten’ ] , parameter_nums = [ 0, 64,  64, 128, 512 ]"
   ]
  },
  {
   "cell_type": "code",
   "execution_count": 2,
   "metadata": {},
   "outputs": [],
   "source": [
    "layer_names = [ 'input', 'conv1', 'pooling1', 'conv2', 'flatten' ]\n",
    "\n",
    "parameter_nums = [ 0, 64,  64, 128, 512 ]"
   ]
  },
  {
   "cell_type": "code",
   "execution_count": 4,
   "metadata": {},
   "outputs": [
    {
     "name": "stdout",
     "output_type": "stream",
     "text": [
      "1 input 0\n",
      "2 conv1 64\n",
      "3 pooling1 64\n",
      "4 conv2 128\n",
      "5 flatten 512\n"
     ]
    }
   ],
   "source": [
    "for index, (layer_name, parameter_num) in enumerate(zip(layer_names, parameter_nums)):\n",
    "    \n",
    "    print(index+1, layer_name, parameter_num)"
   ]
  },
  {
   "cell_type": "code",
   "execution_count": null,
   "metadata": {},
   "outputs": [],
   "source": []
  }
 ],
 "metadata": {
  "anaconda-cloud": {},
  "kernelspec": {
   "display_name": "Python 3",
   "language": "python",
   "name": "python3"
  },
  "language_info": {
   "codemirror_mode": {
    "name": "ipython",
    "version": 3
   },
   "file_extension": ".py",
   "mimetype": "text/x-python",
   "name": "python",
   "nbconvert_exporter": "python",
   "pygments_lexer": "ipython3",
   "version": "3.7.6"
  }
 },
 "nbformat": 4,
 "nbformat_minor": 1
}
